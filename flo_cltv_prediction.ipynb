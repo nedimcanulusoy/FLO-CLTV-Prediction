{
 "cells": [
  {
   "cell_type": "code",
   "execution_count": 1,
   "metadata": {
    "collapsed": true,
    "pycharm": {
     "name": "#%%\n"
    }
   },
   "outputs": [],
   "source": [
    "from datetime import timedelta\n",
    "import pandas as pd\n",
    "import matplotlib.pyplot as plt\n",
    "from lifetimes import BetaGeoFitter\n",
    "from lifetimes import GammaGammaFitter\n",
    "from lifetimes.plotting import plot_period_transactions\n",
    "pd.set_option('display.float_format', lambda x: '%.3f' % x)"
   ]
  },
  {
   "cell_type": "markdown",
   "source": [
    "---\n",
    "##### CLTV Prediction = Probabilistic lifetime value estimation with time projection\n",
    "---"
   ],
   "metadata": {
    "collapsed": false,
    "pycharm": {
     "name": "#%% md\n"
    }
   }
  },
  {
   "cell_type": "code",
   "execution_count": 2,
   "outputs": [],
   "source": [
    "df_ = pd.read_csv(\"flo_data_20k.csv\", encoding='utf-8')\n",
    "df = df_.copy()"
   ],
   "metadata": {
    "collapsed": false,
    "pycharm": {
     "name": "#%%\n"
    }
   }
  },
  {
   "cell_type": "code",
   "execution_count": 3,
   "outputs": [
    {
     "name": "stdout",
     "output_type": "stream",
     "text": [
      "--------- HEAD ---------\n",
      "                              master_id order_channel last_order_channel  \\\n",
      "0  cc294636-19f0-11eb-8d74-000d3a38a36f   Android App            Offline   \n",
      "1  f431bd5a-ab7b-11e9-a2fc-000d3a38a36f   Android App             Mobile   \n",
      "2  69b69676-1a40-11ea-941b-000d3a38a36f   Android App        Android App   \n",
      "3  1854e56c-491f-11eb-806e-000d3a38a36f   Android App        Android App   \n",
      "4  d6ea1074-f1f5-11e9-9346-000d3a38a36f       Desktop            Desktop   \n",
      "5  e585280e-aae1-11e9-a2fc-000d3a38a36f       Desktop            Offline   \n",
      "6  c445e4ee-6242-11ea-9d1a-000d3a38a36f   Android App        Android App   \n",
      "7  3f1b4dc8-8a7d-11ea-8ec0-000d3a38a36f        Mobile            Offline   \n",
      "8  cfbda69e-5b4f-11ea-aca7-000d3a38a36f   Android App        Android App   \n",
      "9  1143f032-440d-11ea-8b43-000d3a38a36f        Mobile             Mobile   \n",
      "\n",
      "  first_order_date last_order_date last_order_date_online  \\\n",
      "0       2020-10-30      2021-02-26             2021-02-21   \n",
      "1       2017-02-08      2021-02-16             2021-02-16   \n",
      "2       2019-11-27      2020-11-27             2020-11-27   \n",
      "3       2021-01-06      2021-01-17             2021-01-17   \n",
      "4       2019-08-03      2021-03-07             2021-03-07   \n",
      "5       2018-11-18      2021-03-13             2018-11-18   \n",
      "6       2020-03-04      2020-10-18             2020-10-18   \n",
      "7       2020-05-15      2020-08-12             2020-05-15   \n",
      "8       2020-01-23      2021-03-07             2021-03-07   \n",
      "9       2019-07-30      2020-10-04             2020-10-04   \n",
      "\n",
      "  last_order_date_offline  order_num_total_ever_online  \\\n",
      "0              2021-02-26                        4.000   \n",
      "1              2020-01-10                       19.000   \n",
      "2              2019-12-01                        3.000   \n",
      "3              2021-01-06                        1.000   \n",
      "4              2019-08-03                        1.000   \n",
      "5              2021-03-13                        1.000   \n",
      "6              2020-03-04                        3.000   \n",
      "7              2020-08-12                        1.000   \n",
      "8              2020-01-25                        3.000   \n",
      "9              2019-07-30                        1.000   \n",
      "\n",
      "   order_num_total_ever_offline  customer_value_total_ever_offline  \\\n",
      "0                         1.000                            139.990   \n",
      "1                         2.000                            159.970   \n",
      "2                         2.000                            189.970   \n",
      "3                         1.000                             39.990   \n",
      "4                         1.000                             49.990   \n",
      "5                         2.000                            150.870   \n",
      "6                         1.000                             59.990   \n",
      "7                         1.000                             49.990   \n",
      "8                         2.000                            120.480   \n",
      "9                         1.000                             69.980   \n",
      "\n",
      "   customer_value_total_ever_online       interested_in_categories_12  \n",
      "0                           799.380                           [KADIN]  \n",
      "1                          1853.580  [ERKEK, COCUK, KADIN, AKTIFSPOR]  \n",
      "2                           395.350                    [ERKEK, KADIN]  \n",
      "3                            81.980               [AKTIFCOCUK, COCUK]  \n",
      "4                           159.990                       [AKTIFSPOR]  \n",
      "5                            49.990                           [KADIN]  \n",
      "6                           315.940                       [AKTIFSPOR]  \n",
      "7                           113.640                           [COCUK]  \n",
      "8                           934.210             [ERKEK, COCUK, KADIN]  \n",
      "9                            95.980                [KADIN, AKTIFSPOR]  \n",
      "--------- SHAPE ---------\n",
      "(19945, 12)\n",
      "--------- COLUMNS ---------\n",
      "Index(['master_id', 'order_channel', 'last_order_channel', 'first_order_date',\n",
      "       'last_order_date', 'last_order_date_online', 'last_order_date_offline',\n",
      "       'order_num_total_ever_online', 'order_num_total_ever_offline',\n",
      "       'customer_value_total_ever_offline', 'customer_value_total_ever_online',\n",
      "       'interested_in_categories_12'],\n",
      "      dtype='object')\n",
      "--------- DESCRIBE ---------\n",
      "                                      count    mean     std    min     25%  \\\n",
      "order_num_total_ever_online       19945.000   3.111   4.226  1.000   1.000   \n",
      "order_num_total_ever_offline      19945.000   1.914   2.063  1.000   1.000   \n",
      "customer_value_total_ever_offline 19945.000 253.923 301.533 10.000  99.990   \n",
      "customer_value_total_ever_online  19945.000 497.322 832.602 12.990 149.980   \n",
      "\n",
      "                                      50%     75%       max  \n",
      "order_num_total_ever_online         2.000   4.000   200.000  \n",
      "order_num_total_ever_offline        1.000   2.000   109.000  \n",
      "customer_value_total_ever_offline 179.980 319.970 18119.140  \n",
      "customer_value_total_ever_online  286.460 578.440 45220.130  \n",
      "--------- INFO ---------\n",
      "<class 'pandas.core.frame.DataFrame'>\n",
      "RangeIndex: 19945 entries, 0 to 19944\n",
      "Data columns (total 12 columns):\n",
      " #   Column                             Non-Null Count  Dtype  \n",
      "---  ------                             --------------  -----  \n",
      " 0   master_id                          19945 non-null  object \n",
      " 1   order_channel                      19945 non-null  object \n",
      " 2   last_order_channel                 19945 non-null  object \n",
      " 3   first_order_date                   19945 non-null  object \n",
      " 4   last_order_date                    19945 non-null  object \n",
      " 5   last_order_date_online             19945 non-null  object \n",
      " 6   last_order_date_offline            19945 non-null  object \n",
      " 7   order_num_total_ever_online        19945 non-null  float64\n",
      " 8   order_num_total_ever_offline       19945 non-null  float64\n",
      " 9   customer_value_total_ever_offline  19945 non-null  float64\n",
      " 10  customer_value_total_ever_online   19945 non-null  float64\n",
      " 11  interested_in_categories_12        19945 non-null  object \n",
      "dtypes: float64(4), object(8)\n",
      "memory usage: 1.8+ MB\n",
      "None\n",
      "--------- FREQUENCY ---------\n",
      "master_id                            19945\n",
      "order_channel                            4\n",
      "last_order_channel                       5\n",
      "first_order_date                      2465\n",
      "last_order_date                        366\n",
      "last_order_date_online                1743\n",
      "last_order_date_offline                738\n",
      "order_num_total_ever_online             57\n",
      "order_num_total_ever_offline            32\n",
      "customer_value_total_ever_offline     6097\n",
      "customer_value_total_ever_online     11292\n",
      "interested_in_categories_12             32\n",
      "dtype: int64\n",
      "--------- ANY NULL VALUES ---------\n",
      "False\n",
      "--------- SUM OF NULL VALUES ---------\n",
      "master_id                            0\n",
      "order_channel                        0\n",
      "last_order_channel                   0\n",
      "first_order_date                     0\n",
      "last_order_date                      0\n",
      "last_order_date_online               0\n",
      "last_order_date_offline              0\n",
      "order_num_total_ever_online          0\n",
      "order_num_total_ever_offline         0\n",
      "customer_value_total_ever_offline    0\n",
      "customer_value_total_ever_online     0\n",
      "interested_in_categories_12          0\n",
      "dtype: int64\n"
     ]
    }
   ],
   "source": [
    "def quick_info(dataframe):\n",
    "    print(\"--------- HEAD ---------\")\n",
    "    print(dataframe.head(10))\n",
    "    print(\"--------- SHAPE ---------\")\n",
    "    print(dataframe.shape)\n",
    "    print(\"--------- COLUMNS ---------\")\n",
    "    print(dataframe.columns)\n",
    "    print(\"--------- DESCRIBE ---------\")\n",
    "    print(dataframe.describe().T)\n",
    "    print(\"--------- INFO ---------\")\n",
    "    print(dataframe.info())\n",
    "    print(\"--------- FREQUENCY ---------\")\n",
    "    print(dataframe.nunique())\n",
    "    print(\"--------- ANY NULL VALUES ---------\")\n",
    "    print(dataframe.isnull().values.any())\n",
    "    print(\"--------- SUM OF NULL VALUES ---------\")\n",
    "    print(dataframe.isnull().sum())\n",
    "\n",
    "quick_info(df)"
   ],
   "metadata": {
    "collapsed": false,
    "pycharm": {
     "name": "#%%\n"
    }
   }
  },
  {
   "cell_type": "code",
   "execution_count": 4,
   "outputs": [],
   "source": [
    "# It will enable us to take the necessary actions to suppress the outliers in the data set.\n",
    "\n",
    "def outlier_thresholds(dataframe, variable):\n",
    "    quartile1 = dataframe[variable].quantile(0.01)\n",
    "    quartile3 = dataframe[variable].quantile(0.99)\n",
    "    interquantile_range = quartile3 - quartile1\n",
    "\n",
    "    upper_limit = quartile3 + 1.5 * interquantile_range\n",
    "    lower_limit = quartile1 - 1.5 * interquantile_range\n",
    "    return lower_limit, upper_limit\n",
    "\n",
    "def replace_with_thresholds(dataframe, variable):\n",
    "    lower_limit, upper_limit = outlier_thresholds(dataframe, variable)\n",
    "    dataframe.loc[(dataframe[variable] > upper_limit), variable] = round(upper_limit)\n",
    "    dataframe.loc[(dataframe[variable] < lower_limit), variable] = round(lower_limit)"
   ],
   "metadata": {
    "collapsed": false,
    "pycharm": {
     "name": "#%%\n"
    }
   }
  },
  {
   "cell_type": "code",
   "execution_count": 5,
   "outputs": [
    {
     "name": "stdout",
     "output_type": "stream",
     "text": [
      "order_num_total_ever_online False\n",
      "order_num_total_ever_offline False\n",
      "customer_value_total_ever_offline False\n",
      "customer_value_total_ever_online False\n"
     ]
    }
   ],
   "source": [
    "check_outlier_values = [\"order_num_total_ever_online\", \"order_num_total_ever_offline\", \"customer_value_total_ever_offline\", \"customer_value_total_ever_online\"]\n",
    "\n",
    "def check_outlier(dataframe, col_name):\n",
    "    lower_limit, upper_limit = outlier_thresholds(dataframe, col_name)\n",
    "    if dataframe[((dataframe[col_name] > upper_limit) > upper_limit) | (dataframe[col_name] < lower_limit)].any(axis=None):\n",
    "        return True\n",
    "    else:\n",
    "        return False\n",
    "\n",
    "for col in check_outlier_values:\n",
    "    print(col, check_outlier(df,col))\n",
    "    replace_with_thresholds(df, col)"
   ],
   "metadata": {
    "collapsed": false,
    "pycharm": {
     "name": "#%%\n"
    }
   }
  },
  {
   "cell_type": "code",
   "execution_count": 6,
   "outputs": [
    {
     "data": {
      "text/plain": "                                      count    mean     std    min     25%  \\\norder_num_total_ever_online       19945.000   3.092   3.810  1.000   1.000   \norder_num_total_ever_offline      19945.000   1.886   1.435  1.000   1.000   \ncustomer_value_total_ever_offline 19945.000 251.921 251.024 10.000  99.990   \ncustomer_value_total_ever_online  19945.000 489.706 632.610 12.990 149.980   \n\n                                      50%     75%      max  \norder_num_total_ever_online         2.000   4.000   48.000  \norder_num_total_ever_offline        1.000   2.000   16.000  \ncustomer_value_total_ever_offline 179.980 319.970 3020.000  \ncustomer_value_total_ever_online  286.460 578.440 7800.000  ",
      "text/html": "<div>\n<style scoped>\n    .dataframe tbody tr th:only-of-type {\n        vertical-align: middle;\n    }\n\n    .dataframe tbody tr th {\n        vertical-align: top;\n    }\n\n    .dataframe thead th {\n        text-align: right;\n    }\n</style>\n<table border=\"1\" class=\"dataframe\">\n  <thead>\n    <tr style=\"text-align: right;\">\n      <th></th>\n      <th>count</th>\n      <th>mean</th>\n      <th>std</th>\n      <th>min</th>\n      <th>25%</th>\n      <th>50%</th>\n      <th>75%</th>\n      <th>max</th>\n    </tr>\n  </thead>\n  <tbody>\n    <tr>\n      <th>order_num_total_ever_online</th>\n      <td>19945.000</td>\n      <td>3.092</td>\n      <td>3.810</td>\n      <td>1.000</td>\n      <td>1.000</td>\n      <td>2.000</td>\n      <td>4.000</td>\n      <td>48.000</td>\n    </tr>\n    <tr>\n      <th>order_num_total_ever_offline</th>\n      <td>19945.000</td>\n      <td>1.886</td>\n      <td>1.435</td>\n      <td>1.000</td>\n      <td>1.000</td>\n      <td>1.000</td>\n      <td>2.000</td>\n      <td>16.000</td>\n    </tr>\n    <tr>\n      <th>customer_value_total_ever_offline</th>\n      <td>19945.000</td>\n      <td>251.921</td>\n      <td>251.024</td>\n      <td>10.000</td>\n      <td>99.990</td>\n      <td>179.980</td>\n      <td>319.970</td>\n      <td>3020.000</td>\n    </tr>\n    <tr>\n      <th>customer_value_total_ever_online</th>\n      <td>19945.000</td>\n      <td>489.706</td>\n      <td>632.610</td>\n      <td>12.990</td>\n      <td>149.980</td>\n      <td>286.460</td>\n      <td>578.440</td>\n      <td>7800.000</td>\n    </tr>\n  </tbody>\n</table>\n</div>"
     },
     "execution_count": 6,
     "metadata": {},
     "output_type": "execute_result"
    }
   ],
   "source": [
    "df.describe().T"
   ],
   "metadata": {
    "collapsed": false,
    "pycharm": {
     "name": "#%%\n"
    }
   }
  },
  {
   "cell_type": "code",
   "execution_count": 7,
   "outputs": [],
   "source": [
    "#The number of orders and expenses made by customers both online and offline were combined\n",
    "df['order_num_total'] = df['order_num_total_ever_online'] + df['order_num_total_ever_offline'] #Orders (frequency)\n",
    "df['customer_value_total'] = df['customer_value_total_ever_online'] + df['customer_value_total_ever_offline'] #Expenses (monetary)"
   ],
   "metadata": {
    "collapsed": false,
    "pycharm": {
     "name": "#%%\n"
    }
   }
  },
  {
   "cell_type": "code",
   "execution_count": 8,
   "outputs": [],
   "source": [
    "# Current dtype is 'object' and format is yy-mm-dd\n",
    "date_cols = df.columns[df.columns.str.contains('date')]\n",
    "# Converted to date type\n",
    "df[date_cols] = df[date_cols].apply(pd.to_datetime)"
   ],
   "metadata": {
    "collapsed": false,
    "pycharm": {
     "name": "#%%\n"
    }
   }
  },
  {
   "cell_type": "code",
   "execution_count": 9,
   "outputs": [
    {
     "name": "stdout",
     "output_type": "stream",
     "text": [
      "<class 'pandas.core.frame.DataFrame'>\n",
      "RangeIndex: 19945 entries, 0 to 19944\n",
      "Data columns (total 4 columns):\n",
      " #   Column                   Non-Null Count  Dtype         \n",
      "---  ------                   --------------  -----         \n",
      " 0   first_order_date         19945 non-null  datetime64[ns]\n",
      " 1   last_order_date          19945 non-null  datetime64[ns]\n",
      " 2   last_order_date_online   19945 non-null  datetime64[ns]\n",
      " 3   last_order_date_offline  19945 non-null  datetime64[ns]\n",
      "dtypes: datetime64[ns](4)\n",
      "memory usage: 623.4 KB\n"
     ]
    }
   ],
   "source": [
    "df[date_cols].info()"
   ],
   "metadata": {
    "collapsed": false,
    "pycharm": {
     "name": "#%%\n"
    }
   }
  },
  {
   "cell_type": "code",
   "execution_count": 10,
   "outputs": [
    {
     "data": {
      "text/plain": "Timestamp('2021-05-30 00:00:00')"
     },
     "execution_count": 10,
     "metadata": {},
     "output_type": "execute_result"
    }
   ],
   "source": [
    "# Return the latest order in the dataset, required to determine analysis date\n",
    "latest_order_date = df['last_order_date'].max()\n",
    "latest_order_date"
   ],
   "metadata": {
    "collapsed": false,
    "pycharm": {
     "name": "#%%\n"
    }
   }
  },
  {
   "cell_type": "code",
   "execution_count": 11,
   "outputs": [],
   "source": [
    "# Allowed to select the analysis date 2 days after the maximum date to calculate the recency value\n",
    "analysis_date = latest_order_date + timedelta(days=2)"
   ],
   "metadata": {
    "collapsed": false,
    "pycharm": {
     "name": "#%%\n"
    }
   }
  },
  {
   "cell_type": "markdown",
   "source": [
    "*RECALL*\n",
    "\n",
    "---\n",
    "\n",
    "**Recency**: How many weeks customer was the customer when he/she made the last purchase? (Last purchase date - First purchase date)\n",
    "**T - Tenur**: Customer's age (In weeks) (Analysis date - First purchase date)\n",
    "**Frequency**: Total number of purchases, ie how many times the customer came (Must be greater than 1)\n",
    "**Monetary**: Average earnings per purchase"
   ],
   "metadata": {
    "collapsed": false,
    "pycharm": {
     "name": "#%% md\n"
    }
   }
  },
  {
   "cell_type": "code",
   "execution_count": 12,
   "outputs": [],
   "source": [
    "# Create a new dataframe called cltv_df, contains master_id, recency_cltv_weekly, T_weekly, frequency, monetary_cltv_avg\n",
    "cltv_df = pd.DataFrame()\n",
    "\n",
    "cltv_df[\"master_id\"] = df[\"master_id\"]\n",
    "cltv_df[\"recency_cltv_weekly\"] = ((df[\"last_order_date\"]- df[\"first_order_date\"]).astype('timedelta64[D]')) / 7 # Divided by 7 to set as weekly\n",
    "cltv_df[\"T_weekly\"] = (analysis_date - df[\"first_order_date\"]).dt.days / 7 # Divide by 7 to adjust weekly\n",
    "cltv_df[\"frequency\"] = df[\"order_num_total\"]\n",
    "cltv_df[\"monetary_cltv_avg\"] = df[\"customer_value_total\"] / df[\"order_num_total\"]"
   ],
   "metadata": {
    "collapsed": false,
    "pycharm": {
     "name": "#%%\n"
    }
   }
  },
  {
   "cell_type": "code",
   "execution_count": 13,
   "outputs": [
    {
     "data": {
      "text/plain": "                                  master_id  recency_cltv_weekly  T_weekly  \\\n0      cc294636-19f0-11eb-8d74-000d3a38a36f               17.000    30.571   \n1      f431bd5a-ab7b-11e9-a2fc-000d3a38a36f              209.857   224.857   \n2      69b69676-1a40-11ea-941b-000d3a38a36f               52.286    78.857   \n3      1854e56c-491f-11eb-806e-000d3a38a36f                1.571    20.857   \n4      d6ea1074-f1f5-11e9-9346-000d3a38a36f               83.143    95.429   \n...                                     ...                  ...       ...   \n19940  727e2b6e-ddd4-11e9-a848-000d3a38a36f               41.143    88.429   \n19941  25cd53d4-61bf-11ea-8dd8-000d3a38a36f               42.286    65.286   \n19942  8aea4c2a-d6fc-11e9-93bc-000d3a38a36f               88.714    89.857   \n19943  e50bb46c-ff30-11e9-a5e8-000d3a38a36f               98.429   113.857   \n19944  740998d2-b1f7-11e9-89fa-000d3a38a36f               39.571    91.000   \n\n       frequency  monetary_cltv_avg  \n0          5.000            187.874  \n1         21.000             95.883  \n2          5.000            117.064  \n3          2.000             60.985  \n4          2.000            104.990  \n...          ...                ...  \n19940      3.000            133.987  \n19941      2.000            195.235  \n19942      3.000            210.980  \n19943      6.000            168.295  \n19944      2.000            130.985  \n\n[19945 rows x 5 columns]",
      "text/html": "<div>\n<style scoped>\n    .dataframe tbody tr th:only-of-type {\n        vertical-align: middle;\n    }\n\n    .dataframe tbody tr th {\n        vertical-align: top;\n    }\n\n    .dataframe thead th {\n        text-align: right;\n    }\n</style>\n<table border=\"1\" class=\"dataframe\">\n  <thead>\n    <tr style=\"text-align: right;\">\n      <th></th>\n      <th>master_id</th>\n      <th>recency_cltv_weekly</th>\n      <th>T_weekly</th>\n      <th>frequency</th>\n      <th>monetary_cltv_avg</th>\n    </tr>\n  </thead>\n  <tbody>\n    <tr>\n      <th>0</th>\n      <td>cc294636-19f0-11eb-8d74-000d3a38a36f</td>\n      <td>17.000</td>\n      <td>30.571</td>\n      <td>5.000</td>\n      <td>187.874</td>\n    </tr>\n    <tr>\n      <th>1</th>\n      <td>f431bd5a-ab7b-11e9-a2fc-000d3a38a36f</td>\n      <td>209.857</td>\n      <td>224.857</td>\n      <td>21.000</td>\n      <td>95.883</td>\n    </tr>\n    <tr>\n      <th>2</th>\n      <td>69b69676-1a40-11ea-941b-000d3a38a36f</td>\n      <td>52.286</td>\n      <td>78.857</td>\n      <td>5.000</td>\n      <td>117.064</td>\n    </tr>\n    <tr>\n      <th>3</th>\n      <td>1854e56c-491f-11eb-806e-000d3a38a36f</td>\n      <td>1.571</td>\n      <td>20.857</td>\n      <td>2.000</td>\n      <td>60.985</td>\n    </tr>\n    <tr>\n      <th>4</th>\n      <td>d6ea1074-f1f5-11e9-9346-000d3a38a36f</td>\n      <td>83.143</td>\n      <td>95.429</td>\n      <td>2.000</td>\n      <td>104.990</td>\n    </tr>\n    <tr>\n      <th>...</th>\n      <td>...</td>\n      <td>...</td>\n      <td>...</td>\n      <td>...</td>\n      <td>...</td>\n    </tr>\n    <tr>\n      <th>19940</th>\n      <td>727e2b6e-ddd4-11e9-a848-000d3a38a36f</td>\n      <td>41.143</td>\n      <td>88.429</td>\n      <td>3.000</td>\n      <td>133.987</td>\n    </tr>\n    <tr>\n      <th>19941</th>\n      <td>25cd53d4-61bf-11ea-8dd8-000d3a38a36f</td>\n      <td>42.286</td>\n      <td>65.286</td>\n      <td>2.000</td>\n      <td>195.235</td>\n    </tr>\n    <tr>\n      <th>19942</th>\n      <td>8aea4c2a-d6fc-11e9-93bc-000d3a38a36f</td>\n      <td>88.714</td>\n      <td>89.857</td>\n      <td>3.000</td>\n      <td>210.980</td>\n    </tr>\n    <tr>\n      <th>19943</th>\n      <td>e50bb46c-ff30-11e9-a5e8-000d3a38a36f</td>\n      <td>98.429</td>\n      <td>113.857</td>\n      <td>6.000</td>\n      <td>168.295</td>\n    </tr>\n    <tr>\n      <th>19944</th>\n      <td>740998d2-b1f7-11e9-89fa-000d3a38a36f</td>\n      <td>39.571</td>\n      <td>91.000</td>\n      <td>2.000</td>\n      <td>130.985</td>\n    </tr>\n  </tbody>\n</table>\n<p>19945 rows × 5 columns</p>\n</div>"
     },
     "execution_count": 13,
     "metadata": {},
     "output_type": "execute_result"
    }
   ],
   "source": [
    "cltv_df"
   ],
   "metadata": {
    "collapsed": false,
    "pycharm": {
     "name": "#%%\n"
    }
   }
  },
  {
   "cell_type": "code",
   "execution_count": 14,
   "outputs": [],
   "source": [
    "# Rename column names\n",
    "cltv_df.columns = ['master_id', 'recency', 'T', 'frequency', 'monetary']"
   ],
   "metadata": {
    "collapsed": false,
    "pycharm": {
     "name": "#%%\n"
    }
   }
  },
  {
   "cell_type": "code",
   "execution_count": 15,
   "outputs": [
    {
     "data": {
      "text/plain": "                                  master_id  recency       T  frequency  \\\n0      cc294636-19f0-11eb-8d74-000d3a38a36f   17.000  30.571      5.000   \n1      f431bd5a-ab7b-11e9-a2fc-000d3a38a36f  209.857 224.857     21.000   \n2      69b69676-1a40-11ea-941b-000d3a38a36f   52.286  78.857      5.000   \n3      1854e56c-491f-11eb-806e-000d3a38a36f    1.571  20.857      2.000   \n4      d6ea1074-f1f5-11e9-9346-000d3a38a36f   83.143  95.429      2.000   \n...                                     ...      ...     ...        ...   \n19940  727e2b6e-ddd4-11e9-a848-000d3a38a36f   41.143  88.429      3.000   \n19941  25cd53d4-61bf-11ea-8dd8-000d3a38a36f   42.286  65.286      2.000   \n19942  8aea4c2a-d6fc-11e9-93bc-000d3a38a36f   88.714  89.857      3.000   \n19943  e50bb46c-ff30-11e9-a5e8-000d3a38a36f   98.429 113.857      6.000   \n19944  740998d2-b1f7-11e9-89fa-000d3a38a36f   39.571  91.000      2.000   \n\n       monetary  \n0       187.874  \n1        95.883  \n2       117.064  \n3        60.985  \n4       104.990  \n...         ...  \n19940   133.987  \n19941   195.235  \n19942   210.980  \n19943   168.295  \n19944   130.985  \n\n[19945 rows x 5 columns]",
      "text/html": "<div>\n<style scoped>\n    .dataframe tbody tr th:only-of-type {\n        vertical-align: middle;\n    }\n\n    .dataframe tbody tr th {\n        vertical-align: top;\n    }\n\n    .dataframe thead th {\n        text-align: right;\n    }\n</style>\n<table border=\"1\" class=\"dataframe\">\n  <thead>\n    <tr style=\"text-align: right;\">\n      <th></th>\n      <th>master_id</th>\n      <th>recency</th>\n      <th>T</th>\n      <th>frequency</th>\n      <th>monetary</th>\n    </tr>\n  </thead>\n  <tbody>\n    <tr>\n      <th>0</th>\n      <td>cc294636-19f0-11eb-8d74-000d3a38a36f</td>\n      <td>17.000</td>\n      <td>30.571</td>\n      <td>5.000</td>\n      <td>187.874</td>\n    </tr>\n    <tr>\n      <th>1</th>\n      <td>f431bd5a-ab7b-11e9-a2fc-000d3a38a36f</td>\n      <td>209.857</td>\n      <td>224.857</td>\n      <td>21.000</td>\n      <td>95.883</td>\n    </tr>\n    <tr>\n      <th>2</th>\n      <td>69b69676-1a40-11ea-941b-000d3a38a36f</td>\n      <td>52.286</td>\n      <td>78.857</td>\n      <td>5.000</td>\n      <td>117.064</td>\n    </tr>\n    <tr>\n      <th>3</th>\n      <td>1854e56c-491f-11eb-806e-000d3a38a36f</td>\n      <td>1.571</td>\n      <td>20.857</td>\n      <td>2.000</td>\n      <td>60.985</td>\n    </tr>\n    <tr>\n      <th>4</th>\n      <td>d6ea1074-f1f5-11e9-9346-000d3a38a36f</td>\n      <td>83.143</td>\n      <td>95.429</td>\n      <td>2.000</td>\n      <td>104.990</td>\n    </tr>\n    <tr>\n      <th>...</th>\n      <td>...</td>\n      <td>...</td>\n      <td>...</td>\n      <td>...</td>\n      <td>...</td>\n    </tr>\n    <tr>\n      <th>19940</th>\n      <td>727e2b6e-ddd4-11e9-a848-000d3a38a36f</td>\n      <td>41.143</td>\n      <td>88.429</td>\n      <td>3.000</td>\n      <td>133.987</td>\n    </tr>\n    <tr>\n      <th>19941</th>\n      <td>25cd53d4-61bf-11ea-8dd8-000d3a38a36f</td>\n      <td>42.286</td>\n      <td>65.286</td>\n      <td>2.000</td>\n      <td>195.235</td>\n    </tr>\n    <tr>\n      <th>19942</th>\n      <td>8aea4c2a-d6fc-11e9-93bc-000d3a38a36f</td>\n      <td>88.714</td>\n      <td>89.857</td>\n      <td>3.000</td>\n      <td>210.980</td>\n    </tr>\n    <tr>\n      <th>19943</th>\n      <td>e50bb46c-ff30-11e9-a5e8-000d3a38a36f</td>\n      <td>98.429</td>\n      <td>113.857</td>\n      <td>6.000</td>\n      <td>168.295</td>\n    </tr>\n    <tr>\n      <th>19944</th>\n      <td>740998d2-b1f7-11e9-89fa-000d3a38a36f</td>\n      <td>39.571</td>\n      <td>91.000</td>\n      <td>2.000</td>\n      <td>130.985</td>\n    </tr>\n  </tbody>\n</table>\n<p>19945 rows × 5 columns</p>\n</div>"
     },
     "execution_count": 15,
     "metadata": {},
     "output_type": "execute_result"
    }
   ],
   "source": [
    "cltv_df"
   ],
   "metadata": {
    "collapsed": false,
    "pycharm": {
     "name": "#%%\n"
    }
   }
  },
  {
   "cell_type": "markdown",
   "source": [
    "*RECALL*\n",
    "\n",
    "---\n",
    "\n",
    "**BG-NBD Model**    --- _returns_ --->    Expected Number of Transaction\n",
    "**Gamma-Gamma Submodel**    --- _returns_ --->    Expected Average Profit"
   ],
   "metadata": {
    "collapsed": false,
    "pycharm": {
     "name": "#%% md\n"
    }
   }
  },
  {
   "cell_type": "code",
   "execution_count": 16,
   "outputs": [
    {
     "name": "stderr",
     "output_type": "stream",
     "text": [
      "/home/nedim/Documents/DSMLBC10/venv/lib/python3.10/site-packages/pandas/core/arraylike.py:405: RuntimeWarning: invalid value encountered in sqrt\n",
      "  result = getattr(ufunc, method)(*inputs, **kwargs)\n"
     ]
    },
    {
     "data": {
      "text/plain": "<lifetimes.BetaGeoFitter: fitted with 19945 subjects, a: 0.00, alpha: 48.87, b: 0.00, r: 2.39>"
     },
     "execution_count": 16,
     "metadata": {},
     "output_type": "execute_result"
    }
   ],
   "source": [
    "bg_model = BetaGeoFitter(penalizer_coef=0.01) # Define BG-NBD model\n",
    "\n",
    "bg_model.fit(cltv_df['frequency'], cltv_df['recency'], cltv_df['T']) # Fit a dataset to the BG/NBD model"
   ],
   "metadata": {
    "collapsed": false,
    "pycharm": {
     "name": "#%%\n"
    }
   }
  },
  {
   "cell_type": "code",
   "execution_count": 17,
   "outputs": [
    {
     "data": {
      "text/plain": "0       1.117\n1       1.026\n2       0.695\n3       0.756\n4       0.365\n         ... \n19940   0.471\n19941   0.462\n19942   0.467\n19943   0.619\n19944   0.377\nLength: 19945, dtype: float64"
     },
     "execution_count": 17,
     "metadata": {},
     "output_type": "execute_result"
    }
   ],
   "source": [
    "# 3 months prediction\n",
    "bg_model.predict(12, cltv_df['frequency'], cltv_df['recency'], cltv_df['T']) # Make predictions with given time period and dataset"
   ],
   "metadata": {
    "collapsed": false,
    "pycharm": {
     "name": "#%%\n"
    }
   }
  },
  {
   "cell_type": "code",
   "execution_count": 18,
   "outputs": [],
   "source": [
    "# Assign 3 months prediction to the dataset\n",
    "cltv_df['exp_sales_3_month'] = bg_model.predict(12, cltv_df['frequency'], cltv_df['recency'], cltv_df['T'])"
   ],
   "metadata": {
    "collapsed": false,
    "pycharm": {
     "name": "#%%\n"
    }
   }
  },
  {
   "cell_type": "code",
   "execution_count": 19,
   "outputs": [
    {
     "data": {
      "text/plain": "0       2.234\n1       2.051\n2       1.389\n3       1.512\n4       0.731\n         ... \n19940   0.943\n19941   0.924\n19942   0.933\n19943   1.238\n19944   0.754\nLength: 19945, dtype: float64"
     },
     "execution_count": 19,
     "metadata": {},
     "output_type": "execute_result"
    }
   ],
   "source": [
    "# 6 months prediction\n",
    "bg_model.predict(24, cltv_df['frequency'], cltv_df['recency'], cltv_df['T']) # Make predictions with given time period and dataset"
   ],
   "metadata": {
    "collapsed": false,
    "pycharm": {
     "name": "#%%\n"
    }
   }
  },
  {
   "cell_type": "code",
   "execution_count": 20,
   "outputs": [],
   "source": [
    "# Assign 6 months prediction to the dataset\n",
    "cltv_df['exp_sales_6_month'] = bg_model.predict(24, cltv_df['frequency'], cltv_df['recency'], cltv_df['T'])"
   ],
   "metadata": {
    "collapsed": false,
    "pycharm": {
     "name": "#%%\n"
    }
   }
  },
  {
   "cell_type": "code",
   "execution_count": 21,
   "outputs": [
    {
     "data": {
      "text/plain": "                                  master_id  recency       T  frequency  \\\n0      cc294636-19f0-11eb-8d74-000d3a38a36f   17.000  30.571      5.000   \n1      f431bd5a-ab7b-11e9-a2fc-000d3a38a36f  209.857 224.857     21.000   \n2      69b69676-1a40-11ea-941b-000d3a38a36f   52.286  78.857      5.000   \n3      1854e56c-491f-11eb-806e-000d3a38a36f    1.571  20.857      2.000   \n4      d6ea1074-f1f5-11e9-9346-000d3a38a36f   83.143  95.429      2.000   \n...                                     ...      ...     ...        ...   \n19940  727e2b6e-ddd4-11e9-a848-000d3a38a36f   41.143  88.429      3.000   \n19941  25cd53d4-61bf-11ea-8dd8-000d3a38a36f   42.286  65.286      2.000   \n19942  8aea4c2a-d6fc-11e9-93bc-000d3a38a36f   88.714  89.857      3.000   \n19943  e50bb46c-ff30-11e9-a5e8-000d3a38a36f   98.429 113.857      6.000   \n19944  740998d2-b1f7-11e9-89fa-000d3a38a36f   39.571  91.000      2.000   \n\n       monetary  exp_sales_3_month  exp_sales_6_month  \n0       187.874              1.117              2.234  \n1        95.883              1.026              2.051  \n2       117.064              0.695              1.389  \n3        60.985              0.756              1.512  \n4       104.990              0.365              0.731  \n...         ...                ...                ...  \n19940   133.987              0.471              0.943  \n19941   195.235              0.462              0.924  \n19942   210.980              0.467              0.933  \n19943   168.295              0.619              1.238  \n19944   130.985              0.377              0.754  \n\n[19945 rows x 7 columns]",
      "text/html": "<div>\n<style scoped>\n    .dataframe tbody tr th:only-of-type {\n        vertical-align: middle;\n    }\n\n    .dataframe tbody tr th {\n        vertical-align: top;\n    }\n\n    .dataframe thead th {\n        text-align: right;\n    }\n</style>\n<table border=\"1\" class=\"dataframe\">\n  <thead>\n    <tr style=\"text-align: right;\">\n      <th></th>\n      <th>master_id</th>\n      <th>recency</th>\n      <th>T</th>\n      <th>frequency</th>\n      <th>monetary</th>\n      <th>exp_sales_3_month</th>\n      <th>exp_sales_6_month</th>\n    </tr>\n  </thead>\n  <tbody>\n    <tr>\n      <th>0</th>\n      <td>cc294636-19f0-11eb-8d74-000d3a38a36f</td>\n      <td>17.000</td>\n      <td>30.571</td>\n      <td>5.000</td>\n      <td>187.874</td>\n      <td>1.117</td>\n      <td>2.234</td>\n    </tr>\n    <tr>\n      <th>1</th>\n      <td>f431bd5a-ab7b-11e9-a2fc-000d3a38a36f</td>\n      <td>209.857</td>\n      <td>224.857</td>\n      <td>21.000</td>\n      <td>95.883</td>\n      <td>1.026</td>\n      <td>2.051</td>\n    </tr>\n    <tr>\n      <th>2</th>\n      <td>69b69676-1a40-11ea-941b-000d3a38a36f</td>\n      <td>52.286</td>\n      <td>78.857</td>\n      <td>5.000</td>\n      <td>117.064</td>\n      <td>0.695</td>\n      <td>1.389</td>\n    </tr>\n    <tr>\n      <th>3</th>\n      <td>1854e56c-491f-11eb-806e-000d3a38a36f</td>\n      <td>1.571</td>\n      <td>20.857</td>\n      <td>2.000</td>\n      <td>60.985</td>\n      <td>0.756</td>\n      <td>1.512</td>\n    </tr>\n    <tr>\n      <th>4</th>\n      <td>d6ea1074-f1f5-11e9-9346-000d3a38a36f</td>\n      <td>83.143</td>\n      <td>95.429</td>\n      <td>2.000</td>\n      <td>104.990</td>\n      <td>0.365</td>\n      <td>0.731</td>\n    </tr>\n    <tr>\n      <th>...</th>\n      <td>...</td>\n      <td>...</td>\n      <td>...</td>\n      <td>...</td>\n      <td>...</td>\n      <td>...</td>\n      <td>...</td>\n    </tr>\n    <tr>\n      <th>19940</th>\n      <td>727e2b6e-ddd4-11e9-a848-000d3a38a36f</td>\n      <td>41.143</td>\n      <td>88.429</td>\n      <td>3.000</td>\n      <td>133.987</td>\n      <td>0.471</td>\n      <td>0.943</td>\n    </tr>\n    <tr>\n      <th>19941</th>\n      <td>25cd53d4-61bf-11ea-8dd8-000d3a38a36f</td>\n      <td>42.286</td>\n      <td>65.286</td>\n      <td>2.000</td>\n      <td>195.235</td>\n      <td>0.462</td>\n      <td>0.924</td>\n    </tr>\n    <tr>\n      <th>19942</th>\n      <td>8aea4c2a-d6fc-11e9-93bc-000d3a38a36f</td>\n      <td>88.714</td>\n      <td>89.857</td>\n      <td>3.000</td>\n      <td>210.980</td>\n      <td>0.467</td>\n      <td>0.933</td>\n    </tr>\n    <tr>\n      <th>19943</th>\n      <td>e50bb46c-ff30-11e9-a5e8-000d3a38a36f</td>\n      <td>98.429</td>\n      <td>113.857</td>\n      <td>6.000</td>\n      <td>168.295</td>\n      <td>0.619</td>\n      <td>1.238</td>\n    </tr>\n    <tr>\n      <th>19944</th>\n      <td>740998d2-b1f7-11e9-89fa-000d3a38a36f</td>\n      <td>39.571</td>\n      <td>91.000</td>\n      <td>2.000</td>\n      <td>130.985</td>\n      <td>0.377</td>\n      <td>0.754</td>\n    </tr>\n  </tbody>\n</table>\n<p>19945 rows × 7 columns</p>\n</div>"
     },
     "execution_count": 21,
     "metadata": {},
     "output_type": "execute_result"
    }
   ],
   "source": [
    "cltv_df"
   ],
   "metadata": {
    "collapsed": false,
    "pycharm": {
     "name": "#%%\n"
    }
   }
  },
  {
   "cell_type": "code",
   "execution_count": 22,
   "outputs": [
    {
     "data": {
      "text/plain": "<Figure size 640x480 with 1 Axes>",
      "image/png": "[encoded data removed]"
     },
     "metadata": {},
     "output_type": "display_data"
    }
   ],
   "source": [
    "#Visualization of the model\n",
    "plot_period_transactions(bg_model)\n",
    "plt.show()"
   ],
   "metadata": {
    "collapsed": false,
    "pycharm": {
     "name": "#%%\n"
    }
   }
  },
  {
   "cell_type": "code",
   "execution_count": 23,
   "outputs": [
    {
     "data": {
      "text/plain": "0       193.633\n1        96.665\n2       120.968\n3        67.320\n4       114.325\n          ...  \n19940   141.360\n19941   210.722\n19942   221.775\n19943   172.647\n19944   142.092\nLength: 19945, dtype: float64"
     },
     "execution_count": 23,
     "metadata": {},
     "output_type": "execute_result"
    }
   ],
   "source": [
    "gg_model = GammaGammaFitter(penalizer_coef=0.01) # Define gamma-gamma model\n",
    "\n",
    "gg_model.fit(cltv_df['frequency'], cltv_df['monetary'])  # Fit a dataset to the gamma-gamma model\n",
    "\n",
    "gg_model.conditional_expected_average_profit(cltv_df['frequency'], cltv_df['monetary']) # Make predictions with given dataset"
   ],
   "metadata": {
    "collapsed": false,
    "pycharm": {
     "name": "#%%\n"
    }
   }
  },
  {
   "cell_type": "code",
   "execution_count": 24,
   "outputs": [
    {
     "data": {
      "text/plain": "0       193.633\n1        96.665\n2       120.968\n3        67.320\n4       114.325\n          ...  \n19940   141.360\n19941   210.722\n19942   221.775\n19943   172.647\n19944   142.092\nLength: 19945, dtype: float64"
     },
     "execution_count": 24,
     "metadata": {},
     "output_type": "execute_result"
    }
   ],
   "source": [
    "# Predict expected average profit of the customers\n",
    "gg_model.conditional_expected_average_profit(cltv_df['frequency'], cltv_df['monetary'])"
   ],
   "metadata": {
    "collapsed": false,
    "pycharm": {
     "name": "#%%\n"
    }
   }
  },
  {
   "cell_type": "code",
   "execution_count": 25,
   "outputs": [],
   "source": [
    "# Assign predicted expected average profit of the customers to the dataset\n",
    "cltv_df[\"exp_average_value\"] = gg_model.conditional_expected_average_profit(cltv_df['frequency'], cltv_df['monetary'])"
   ],
   "metadata": {
    "collapsed": false,
    "pycharm": {
     "name": "#%%\n"
    }
   }
  },
  {
   "cell_type": "code",
   "execution_count": 26,
   "outputs": [
    {
     "data": {
      "text/plain": "                                  master_id  recency       T  frequency  \\\n0      cc294636-19f0-11eb-8d74-000d3a38a36f   17.000  30.571      5.000   \n1      f431bd5a-ab7b-11e9-a2fc-000d3a38a36f  209.857 224.857     21.000   \n2      69b69676-1a40-11ea-941b-000d3a38a36f   52.286  78.857      5.000   \n3      1854e56c-491f-11eb-806e-000d3a38a36f    1.571  20.857      2.000   \n4      d6ea1074-f1f5-11e9-9346-000d3a38a36f   83.143  95.429      2.000   \n...                                     ...      ...     ...        ...   \n19940  727e2b6e-ddd4-11e9-a848-000d3a38a36f   41.143  88.429      3.000   \n19941  25cd53d4-61bf-11ea-8dd8-000d3a38a36f   42.286  65.286      2.000   \n19942  8aea4c2a-d6fc-11e9-93bc-000d3a38a36f   88.714  89.857      3.000   \n19943  e50bb46c-ff30-11e9-a5e8-000d3a38a36f   98.429 113.857      6.000   \n19944  740998d2-b1f7-11e9-89fa-000d3a38a36f   39.571  91.000      2.000   \n\n       monetary  exp_sales_3_month  exp_sales_6_month  exp_average_value  \n0       187.874              1.117              2.234            193.633  \n1        95.883              1.026              2.051             96.665  \n2       117.064              0.695              1.389            120.968  \n3        60.985              0.756              1.512             67.320  \n4       104.990              0.365              0.731            114.325  \n...         ...                ...                ...                ...  \n19940   133.987              0.471              0.943            141.360  \n19941   195.235              0.462              0.924            210.722  \n19942   210.980              0.467              0.933            221.775  \n19943   168.295              0.619              1.238            172.647  \n19944   130.985              0.377              0.754            142.092  \n\n[19945 rows x 8 columns]",
      "text/html": "<div>\n<style scoped>\n    .dataframe tbody tr th:only-of-type {\n        vertical-align: middle;\n    }\n\n    .dataframe tbody tr th {\n        vertical-align: top;\n    }\n\n    .dataframe thead th {\n        text-align: right;\n    }\n</style>\n<table border=\"1\" class=\"dataframe\">\n  <thead>\n    <tr style=\"text-align: right;\">\n      <th></th>\n      <th>master_id</th>\n      <th>recency</th>\n      <th>T</th>\n      <th>frequency</th>\n      <th>monetary</th>\n      <th>exp_sales_3_month</th>\n      <th>exp_sales_6_month</th>\n      <th>exp_average_value</th>\n    </tr>\n  </thead>\n  <tbody>\n    <tr>\n      <th>0</th>\n      <td>cc294636-19f0-11eb-8d74-000d3a38a36f</td>\n      <td>17.000</td>\n      <td>30.571</td>\n      <td>5.000</td>\n      <td>187.874</td>\n      <td>1.117</td>\n      <td>2.234</td>\n      <td>193.633</td>\n    </tr>\n    <tr>\n      <th>1</th>\n      <td>f431bd5a-ab7b-11e9-a2fc-000d3a38a36f</td>\n      <td>209.857</td>\n      <td>224.857</td>\n      <td>21.000</td>\n      <td>95.883</td>\n      <td>1.026</td>\n      <td>2.051</td>\n      <td>96.665</td>\n    </tr>\n    <tr>\n      <th>2</th>\n      <td>69b69676-1a40-11ea-941b-000d3a38a36f</td>\n      <td>52.286</td>\n      <td>78.857</td>\n      <td>5.000</td>\n      <td>117.064</td>\n      <td>0.695</td>\n      <td>1.389</td>\n      <td>120.968</td>\n    </tr>\n    <tr>\n      <th>3</th>\n      <td>1854e56c-491f-11eb-806e-000d3a38a36f</td>\n      <td>1.571</td>\n      <td>20.857</td>\n      <td>2.000</td>\n      <td>60.985</td>\n      <td>0.756</td>\n      <td>1.512</td>\n      <td>67.320</td>\n    </tr>\n    <tr>\n      <th>4</th>\n      <td>d6ea1074-f1f5-11e9-9346-000d3a38a36f</td>\n      <td>83.143</td>\n      <td>95.429</td>\n      <td>2.000</td>\n      <td>104.990</td>\n      <td>0.365</td>\n      <td>0.731</td>\n      <td>114.325</td>\n    </tr>\n    <tr>\n      <th>...</th>\n      <td>...</td>\n      <td>...</td>\n      <td>...</td>\n      <td>...</td>\n      <td>...</td>\n      <td>...</td>\n      <td>...</td>\n      <td>...</td>\n    </tr>\n    <tr>\n      <th>19940</th>\n      <td>727e2b6e-ddd4-11e9-a848-000d3a38a36f</td>\n      <td>41.143</td>\n      <td>88.429</td>\n      <td>3.000</td>\n      <td>133.987</td>\n      <td>0.471</td>\n      <td>0.943</td>\n      <td>141.360</td>\n    </tr>\n    <tr>\n      <th>19941</th>\n      <td>25cd53d4-61bf-11ea-8dd8-000d3a38a36f</td>\n      <td>42.286</td>\n      <td>65.286</td>\n      <td>2.000</td>\n      <td>195.235</td>\n      <td>0.462</td>\n      <td>0.924</td>\n      <td>210.722</td>\n    </tr>\n    <tr>\n      <th>19942</th>\n      <td>8aea4c2a-d6fc-11e9-93bc-000d3a38a36f</td>\n      <td>88.714</td>\n      <td>89.857</td>\n      <td>3.000</td>\n      <td>210.980</td>\n      <td>0.467</td>\n      <td>0.933</td>\n      <td>221.775</td>\n    </tr>\n    <tr>\n      <th>19943</th>\n      <td>e50bb46c-ff30-11e9-a5e8-000d3a38a36f</td>\n      <td>98.429</td>\n      <td>113.857</td>\n      <td>6.000</td>\n      <td>168.295</td>\n      <td>0.619</td>\n      <td>1.238</td>\n      <td>172.647</td>\n    </tr>\n    <tr>\n      <th>19944</th>\n      <td>740998d2-b1f7-11e9-89fa-000d3a38a36f</td>\n      <td>39.571</td>\n      <td>91.000</td>\n      <td>2.000</td>\n      <td>130.985</td>\n      <td>0.377</td>\n      <td>0.754</td>\n      <td>142.092</td>\n    </tr>\n  </tbody>\n</table>\n<p>19945 rows × 8 columns</p>\n</div>"
     },
     "execution_count": 26,
     "metadata": {},
     "output_type": "execute_result"
    }
   ],
   "source": [
    "cltv_df"
   ],
   "metadata": {
    "collapsed": false,
    "pycharm": {
     "name": "#%%\n"
    }
   }
  },
  {
   "cell_type": "code",
   "execution_count": 27,
   "outputs": [
    {
     "data": {
      "text/plain": "0       1663.512\n1        762.554\n2        646.382\n3        391.590\n4        321.353\n          ...   \n19940    512.633\n19941    748.707\n19942    795.970\n19943    822.040\n19944    412.048\nName: clv, Length: 19945, dtype: float64"
     },
     "execution_count": 27,
     "metadata": {},
     "output_type": "execute_result"
    }
   ],
   "source": [
    "# Calculate Customer Lifetime Value (CLTV)\n",
    "gg_model.customer_lifetime_value(transaction_prediction_model=bg_model,\n",
    "                                 frequency=cltv_df['frequency'],\n",
    "                                 recency=cltv_df[\"recency\"],\n",
    "                                 T=cltv_df[\"T\"],\n",
    "                                 monetary_value=cltv_df[\"monetary\"],\n",
    "                                 time=24,\n",
    "                                 freq=\"W\")"
   ],
   "metadata": {
    "collapsed": false,
    "pycharm": {
     "name": "#%%\n"
    }
   }
  },
  {
   "cell_type": "code",
   "execution_count": 28,
   "outputs": [],
   "source": [
    "# Assign calculated Customer Lifetime Value (CLTV) to the dataset\n",
    "cltv_df['cltv'] = gg_model.customer_lifetime_value(transaction_prediction_model=bg_model,\n",
    "                                                   frequency=cltv_df['frequency'],\n",
    "                                                   recency=cltv_df[\"recency\"],\n",
    "                                                   T=cltv_df[\"T\"],\n",
    "                                                   monetary_value=cltv_df[\"monetary\"],\n",
    "                                                   time=24,\n",
    "                                                   freq=\"W\")"
   ],
   "metadata": {
    "collapsed": false,
    "pycharm": {
     "name": "#%%\n"
    }
   }
  },
  {
   "cell_type": "code",
   "execution_count": 29,
   "outputs": [
    {
     "data": {
      "text/plain": "                                  master_id  recency       T  frequency  \\\n0      cc294636-19f0-11eb-8d74-000d3a38a36f   17.000  30.571      5.000   \n1      f431bd5a-ab7b-11e9-a2fc-000d3a38a36f  209.857 224.857     21.000   \n2      69b69676-1a40-11ea-941b-000d3a38a36f   52.286  78.857      5.000   \n3      1854e56c-491f-11eb-806e-000d3a38a36f    1.571  20.857      2.000   \n4      d6ea1074-f1f5-11e9-9346-000d3a38a36f   83.143  95.429      2.000   \n...                                     ...      ...     ...        ...   \n19940  727e2b6e-ddd4-11e9-a848-000d3a38a36f   41.143  88.429      3.000   \n19941  25cd53d4-61bf-11ea-8dd8-000d3a38a36f   42.286  65.286      2.000   \n19942  8aea4c2a-d6fc-11e9-93bc-000d3a38a36f   88.714  89.857      3.000   \n19943  e50bb46c-ff30-11e9-a5e8-000d3a38a36f   98.429 113.857      6.000   \n19944  740998d2-b1f7-11e9-89fa-000d3a38a36f   39.571  91.000      2.000   \n\n       monetary  exp_sales_3_month  exp_sales_6_month  exp_average_value  \\\n0       187.874              1.117              2.234            193.633   \n1        95.883              1.026              2.051             96.665   \n2       117.064              0.695              1.389            120.968   \n3        60.985              0.756              1.512             67.320   \n4       104.990              0.365              0.731            114.325   \n...         ...                ...                ...                ...   \n19940   133.987              0.471              0.943            141.360   \n19941   195.235              0.462              0.924            210.722   \n19942   210.980              0.467              0.933            221.775   \n19943   168.295              0.619              1.238            172.647   \n19944   130.985              0.377              0.754            142.092   \n\n          cltv  \n0     1663.512  \n1      762.554  \n2      646.382  \n3      391.590  \n4      321.353  \n...        ...  \n19940  512.633  \n19941  748.707  \n19942  795.970  \n19943  822.040  \n19944  412.048  \n\n[19945 rows x 9 columns]",
      "text/html": "<div>\n<style scoped>\n    .dataframe tbody tr th:only-of-type {\n        vertical-align: middle;\n    }\n\n    .dataframe tbody tr th {\n        vertical-align: top;\n    }\n\n    .dataframe thead th {\n        text-align: right;\n    }\n</style>\n<table border=\"1\" class=\"dataframe\">\n  <thead>\n    <tr style=\"text-align: right;\">\n      <th></th>\n      <th>master_id</th>\n      <th>recency</th>\n      <th>T</th>\n      <th>frequency</th>\n      <th>monetary</th>\n      <th>exp_sales_3_month</th>\n      <th>exp_sales_6_month</th>\n      <th>exp_average_value</th>\n      <th>cltv</th>\n    </tr>\n  </thead>\n  <tbody>\n    <tr>\n      <th>0</th>\n      <td>cc294636-19f0-11eb-8d74-000d3a38a36f</td>\n      <td>17.000</td>\n      <td>30.571</td>\n      <td>5.000</td>\n      <td>187.874</td>\n      <td>1.117</td>\n      <td>2.234</td>\n      <td>193.633</td>\n      <td>1663.512</td>\n    </tr>\n    <tr>\n      <th>1</th>\n      <td>f431bd5a-ab7b-11e9-a2fc-000d3a38a36f</td>\n      <td>209.857</td>\n      <td>224.857</td>\n      <td>21.000</td>\n      <td>95.883</td>\n      <td>1.026</td>\n      <td>2.051</td>\n      <td>96.665</td>\n      <td>762.554</td>\n    </tr>\n    <tr>\n      <th>2</th>\n      <td>69b69676-1a40-11ea-941b-000d3a38a36f</td>\n      <td>52.286</td>\n      <td>78.857</td>\n      <td>5.000</td>\n      <td>117.064</td>\n      <td>0.695</td>\n      <td>1.389</td>\n      <td>120.968</td>\n      <td>646.382</td>\n    </tr>\n    <tr>\n      <th>3</th>\n      <td>1854e56c-491f-11eb-806e-000d3a38a36f</td>\n      <td>1.571</td>\n      <td>20.857</td>\n      <td>2.000</td>\n      <td>60.985</td>\n      <td>0.756</td>\n      <td>1.512</td>\n      <td>67.320</td>\n      <td>391.590</td>\n    </tr>\n    <tr>\n      <th>4</th>\n      <td>d6ea1074-f1f5-11e9-9346-000d3a38a36f</td>\n      <td>83.143</td>\n      <td>95.429</td>\n      <td>2.000</td>\n      <td>104.990</td>\n      <td>0.365</td>\n      <td>0.731</td>\n      <td>114.325</td>\n      <td>321.353</td>\n    </tr>\n    <tr>\n      <th>...</th>\n      <td>...</td>\n      <td>...</td>\n      <td>...</td>\n      <td>...</td>\n      <td>...</td>\n      <td>...</td>\n      <td>...</td>\n      <td>...</td>\n      <td>...</td>\n    </tr>\n    <tr>\n      <th>19940</th>\n      <td>727e2b6e-ddd4-11e9-a848-000d3a38a36f</td>\n      <td>41.143</td>\n      <td>88.429</td>\n      <td>3.000</td>\n      <td>133.987</td>\n      <td>0.471</td>\n      <td>0.943</td>\n      <td>141.360</td>\n      <td>512.633</td>\n    </tr>\n    <tr>\n      <th>19941</th>\n      <td>25cd53d4-61bf-11ea-8dd8-000d3a38a36f</td>\n      <td>42.286</td>\n      <td>65.286</td>\n      <td>2.000</td>\n      <td>195.235</td>\n      <td>0.462</td>\n      <td>0.924</td>\n      <td>210.722</td>\n      <td>748.707</td>\n    </tr>\n    <tr>\n      <th>19942</th>\n      <td>8aea4c2a-d6fc-11e9-93bc-000d3a38a36f</td>\n      <td>88.714</td>\n      <td>89.857</td>\n      <td>3.000</td>\n      <td>210.980</td>\n      <td>0.467</td>\n      <td>0.933</td>\n      <td>221.775</td>\n      <td>795.970</td>\n    </tr>\n    <tr>\n      <th>19943</th>\n      <td>e50bb46c-ff30-11e9-a5e8-000d3a38a36f</td>\n      <td>98.429</td>\n      <td>113.857</td>\n      <td>6.000</td>\n      <td>168.295</td>\n      <td>0.619</td>\n      <td>1.238</td>\n      <td>172.647</td>\n      <td>822.040</td>\n    </tr>\n    <tr>\n      <th>19944</th>\n      <td>740998d2-b1f7-11e9-89fa-000d3a38a36f</td>\n      <td>39.571</td>\n      <td>91.000</td>\n      <td>2.000</td>\n      <td>130.985</td>\n      <td>0.377</td>\n      <td>0.754</td>\n      <td>142.092</td>\n      <td>412.048</td>\n    </tr>\n  </tbody>\n</table>\n<p>19945 rows × 9 columns</p>\n</div>"
     },
     "execution_count": 29,
     "metadata": {},
     "output_type": "execute_result"
    }
   ],
   "source": [
    "cltv_df"
   ],
   "metadata": {
    "collapsed": false,
    "pycharm": {
     "name": "#%%\n"
    }
   }
  },
  {
   "cell_type": "code",
   "execution_count": 30,
   "outputs": [
    {
     "data": {
      "text/plain": "                                  master_id  recency       T  frequency  \\\n13880  7137a5c0-7aad-11ea-8f20-000d3a38a36f    6.143  13.143     11.000   \n9055   47a642fe-975b-11eb-8c2a-000d3a38a36f    2.857   7.857      4.000   \n6666   53fe00d4-7b7a-11eb-960b-000d3a38a36f    9.714  13.000     17.000   \n7330   a4d534a2-5b1b-11eb-8dbd-000d3a38a36f   62.714  67.286     52.000   \n8868   9ce6e520-89b0-11ea-a6e7-000d3a38a36f    3.429  34.429      8.000   \n12438  625f40a2-5bd2-11ea-98b0-000d3a38a36f   74.286  74.571     16.000   \n19538  55d54d9e-8ac7-11ea-8ec0-000d3a38a36f   52.571  58.714     31.000   \n17323  f59053e2-a503-11e9-a2fc-000d3a38a36f   51.714 101.000      7.000   \n6402   851de3b4-8f0c-11eb-8cb8-000d3a38a36f    8.286   9.429      2.000   \n10876  ae149d98-9b6a-11eb-9c47-000d3a38a36f    6.143   7.143      9.000   \n14858  031b2954-6d28-11eb-99c4-000d3a38a36f   14.857  15.571      3.000   \n7312   90befc98-925a-11eb-b584-000d3a38a36f    4.143   8.857      6.000   \n6717   40b4f318-9dfb-11eb-9c47-000d3a38a36f   27.143  33.857      7.000   \n18997  41231c72-566a-11eb-9e65-000d3a38a36f    2.571   4.571      7.000   \n4157   7eed6468-4540-11ea-acaf-000d3a38a36f   89.143  90.000     27.000   \n4735   dbabb58e-6312-11ea-a6dc-000d3a38a36f   61.286  64.286     13.000   \n17963  8fd88976-6708-11ea-9d38-000d3a38a36f   50.286  63.286      7.000   \n15611  4a7e875e-e6ce-11ea-8f44-000d3a38a36f   39.714  40.000     29.000   \n11694  90f1b7f2-bbad-11ea-a0c9-000d3a38a36f   47.286  48.000      6.000   \n7171   77e66e92-31fa-11eb-860c-000d3a38a36f   16.857  26.286      5.000   \n\n       monetary  exp_sales_3_month  exp_sales_6_month  exp_average_value  \\\n13880   758.085              2.592              5.184            767.361   \n9055   1401.800              1.353              2.705           1449.060   \n6666    259.865              3.761              7.523            262.073   \n7330    166.225              5.619             11.239            166.712   \n8868    601.226              1.497              2.995            611.493   \n12438   501.874              1.788              3.576            506.167   \n19538   228.530              3.725              7.449            229.607   \n17323  1106.467              0.752              1.504           1127.612   \n6402    862.690              0.904              1.809            923.680   \n10876   317.484              2.441              4.882            322.512   \n14858   743.587              1.004              2.009            778.050   \n7312    431.328              1.745              3.490            441.398   \n6717    544.700              1.363              2.725            555.410   \n18997   344.013              2.109              4.219            350.996   \n4157    289.764              2.540              5.080            291.292   \n4735    442.115              1.632              3.265            446.816   \n17963   694.199              1.005              2.010            707.686   \n15611   165.298              4.239              8.478            166.170   \n11694   647.345              1.040              2.080            662.110   \n7171    566.758              1.181              2.361            582.443   \n\n           cltv  \n13880 15297.669  \n9055  15075.706  \n6666   7582.323  \n7330   7205.744  \n8868   7042.798  \n12438  6961.731  \n19538  6578.189  \n17323  6524.031  \n6402   6426.094  \n10876  6055.224  \n14858  6011.352  \n7312   5924.103  \n6717   5821.395  \n18997  5694.722  \n4157   5690.959  \n4735   5610.647  \n17963  5471.243  \n15611  5418.030  \n11694  5295.735  \n7171   5289.129  ",
      "text/html": "<div>\n<style scoped>\n    .dataframe tbody tr th:only-of-type {\n        vertical-align: middle;\n    }\n\n    .dataframe tbody tr th {\n        vertical-align: top;\n    }\n\n    .dataframe thead th {\n        text-align: right;\n    }\n</style>\n<table border=\"1\" class=\"dataframe\">\n  <thead>\n    <tr style=\"text-align: right;\">\n      <th></th>\n      <th>master_id</th>\n      <th>recency</th>\n      <th>T</th>\n      <th>frequency</th>\n      <th>monetary</th>\n      <th>exp_sales_3_month</th>\n      <th>exp_sales_6_month</th>\n      <th>exp_average_value</th>\n      <th>cltv</th>\n    </tr>\n  </thead>\n  <tbody>\n    <tr>\n      <th>13880</th>\n      <td>7137a5c0-7aad-11ea-8f20-000d3a38a36f</td>\n      <td>6.143</td>\n      <td>13.143</td>\n      <td>11.000</td>\n      <td>758.085</td>\n      <td>2.592</td>\n      <td>5.184</td>\n      <td>767.361</td>\n      <td>15297.669</td>\n    </tr>\n    <tr>\n      <th>9055</th>\n      <td>47a642fe-975b-11eb-8c2a-000d3a38a36f</td>\n      <td>2.857</td>\n      <td>7.857</td>\n      <td>4.000</td>\n      <td>1401.800</td>\n      <td>1.353</td>\n      <td>2.705</td>\n      <td>1449.060</td>\n      <td>15075.706</td>\n    </tr>\n    <tr>\n      <th>6666</th>\n      <td>53fe00d4-7b7a-11eb-960b-000d3a38a36f</td>\n      <td>9.714</td>\n      <td>13.000</td>\n      <td>17.000</td>\n      <td>259.865</td>\n      <td>3.761</td>\n      <td>7.523</td>\n      <td>262.073</td>\n      <td>7582.323</td>\n    </tr>\n    <tr>\n      <th>7330</th>\n      <td>a4d534a2-5b1b-11eb-8dbd-000d3a38a36f</td>\n      <td>62.714</td>\n      <td>67.286</td>\n      <td>52.000</td>\n      <td>166.225</td>\n      <td>5.619</td>\n      <td>11.239</td>\n      <td>166.712</td>\n      <td>7205.744</td>\n    </tr>\n    <tr>\n      <th>8868</th>\n      <td>9ce6e520-89b0-11ea-a6e7-000d3a38a36f</td>\n      <td>3.429</td>\n      <td>34.429</td>\n      <td>8.000</td>\n      <td>601.226</td>\n      <td>1.497</td>\n      <td>2.995</td>\n      <td>611.493</td>\n      <td>7042.798</td>\n    </tr>\n    <tr>\n      <th>12438</th>\n      <td>625f40a2-5bd2-11ea-98b0-000d3a38a36f</td>\n      <td>74.286</td>\n      <td>74.571</td>\n      <td>16.000</td>\n      <td>501.874</td>\n      <td>1.788</td>\n      <td>3.576</td>\n      <td>506.167</td>\n      <td>6961.731</td>\n    </tr>\n    <tr>\n      <th>19538</th>\n      <td>55d54d9e-8ac7-11ea-8ec0-000d3a38a36f</td>\n      <td>52.571</td>\n      <td>58.714</td>\n      <td>31.000</td>\n      <td>228.530</td>\n      <td>3.725</td>\n      <td>7.449</td>\n      <td>229.607</td>\n      <td>6578.189</td>\n    </tr>\n    <tr>\n      <th>17323</th>\n      <td>f59053e2-a503-11e9-a2fc-000d3a38a36f</td>\n      <td>51.714</td>\n      <td>101.000</td>\n      <td>7.000</td>\n      <td>1106.467</td>\n      <td>0.752</td>\n      <td>1.504</td>\n      <td>1127.612</td>\n      <td>6524.031</td>\n    </tr>\n    <tr>\n      <th>6402</th>\n      <td>851de3b4-8f0c-11eb-8cb8-000d3a38a36f</td>\n      <td>8.286</td>\n      <td>9.429</td>\n      <td>2.000</td>\n      <td>862.690</td>\n      <td>0.904</td>\n      <td>1.809</td>\n      <td>923.680</td>\n      <td>6426.094</td>\n    </tr>\n    <tr>\n      <th>10876</th>\n      <td>ae149d98-9b6a-11eb-9c47-000d3a38a36f</td>\n      <td>6.143</td>\n      <td>7.143</td>\n      <td>9.000</td>\n      <td>317.484</td>\n      <td>2.441</td>\n      <td>4.882</td>\n      <td>322.512</td>\n      <td>6055.224</td>\n    </tr>\n    <tr>\n      <th>14858</th>\n      <td>031b2954-6d28-11eb-99c4-000d3a38a36f</td>\n      <td>14.857</td>\n      <td>15.571</td>\n      <td>3.000</td>\n      <td>743.587</td>\n      <td>1.004</td>\n      <td>2.009</td>\n      <td>778.050</td>\n      <td>6011.352</td>\n    </tr>\n    <tr>\n      <th>7312</th>\n      <td>90befc98-925a-11eb-b584-000d3a38a36f</td>\n      <td>4.143</td>\n      <td>8.857</td>\n      <td>6.000</td>\n      <td>431.328</td>\n      <td>1.745</td>\n      <td>3.490</td>\n      <td>441.398</td>\n      <td>5924.103</td>\n    </tr>\n    <tr>\n      <th>6717</th>\n      <td>40b4f318-9dfb-11eb-9c47-000d3a38a36f</td>\n      <td>27.143</td>\n      <td>33.857</td>\n      <td>7.000</td>\n      <td>544.700</td>\n      <td>1.363</td>\n      <td>2.725</td>\n      <td>555.410</td>\n      <td>5821.395</td>\n    </tr>\n    <tr>\n      <th>18997</th>\n      <td>41231c72-566a-11eb-9e65-000d3a38a36f</td>\n      <td>2.571</td>\n      <td>4.571</td>\n      <td>7.000</td>\n      <td>344.013</td>\n      <td>2.109</td>\n      <td>4.219</td>\n      <td>350.996</td>\n      <td>5694.722</td>\n    </tr>\n    <tr>\n      <th>4157</th>\n      <td>7eed6468-4540-11ea-acaf-000d3a38a36f</td>\n      <td>89.143</td>\n      <td>90.000</td>\n      <td>27.000</td>\n      <td>289.764</td>\n      <td>2.540</td>\n      <td>5.080</td>\n      <td>291.292</td>\n      <td>5690.959</td>\n    </tr>\n    <tr>\n      <th>4735</th>\n      <td>dbabb58e-6312-11ea-a6dc-000d3a38a36f</td>\n      <td>61.286</td>\n      <td>64.286</td>\n      <td>13.000</td>\n      <td>442.115</td>\n      <td>1.632</td>\n      <td>3.265</td>\n      <td>446.816</td>\n      <td>5610.647</td>\n    </tr>\n    <tr>\n      <th>17963</th>\n      <td>8fd88976-6708-11ea-9d38-000d3a38a36f</td>\n      <td>50.286</td>\n      <td>63.286</td>\n      <td>7.000</td>\n      <td>694.199</td>\n      <td>1.005</td>\n      <td>2.010</td>\n      <td>707.686</td>\n      <td>5471.243</td>\n    </tr>\n    <tr>\n      <th>15611</th>\n      <td>4a7e875e-e6ce-11ea-8f44-000d3a38a36f</td>\n      <td>39.714</td>\n      <td>40.000</td>\n      <td>29.000</td>\n      <td>165.298</td>\n      <td>4.239</td>\n      <td>8.478</td>\n      <td>166.170</td>\n      <td>5418.030</td>\n    </tr>\n    <tr>\n      <th>11694</th>\n      <td>90f1b7f2-bbad-11ea-a0c9-000d3a38a36f</td>\n      <td>47.286</td>\n      <td>48.000</td>\n      <td>6.000</td>\n      <td>647.345</td>\n      <td>1.040</td>\n      <td>2.080</td>\n      <td>662.110</td>\n      <td>5295.735</td>\n    </tr>\n    <tr>\n      <th>7171</th>\n      <td>77e66e92-31fa-11eb-860c-000d3a38a36f</td>\n      <td>16.857</td>\n      <td>26.286</td>\n      <td>5.000</td>\n      <td>566.758</td>\n      <td>1.181</td>\n      <td>2.361</td>\n      <td>582.443</td>\n      <td>5289.129</td>\n    </tr>\n  </tbody>\n</table>\n</div>"
     },
     "execution_count": 30,
     "metadata": {},
     "output_type": "execute_result"
    }
   ],
   "source": [
    "# Observe the top 20 customers with the highest CLTV value\n",
    "cltv_df.sort_values(by='cltv', ascending=False).head(20)"
   ],
   "metadata": {
    "collapsed": false,
    "pycharm": {
     "name": "#%%\n"
    }
   }
  },
  {
   "cell_type": "code",
   "execution_count": 31,
   "outputs": [],
   "source": [
    "# Divide CLTV values into segments with qcut & assigned to new columns\n",
    "cltv_df['segment'] = pd.qcut(cltv_df['cltv'], 4, labels=[\"D\",\"C\",\"B\",\"A\"])"
   ],
   "metadata": {
    "collapsed": false,
    "pycharm": {
     "name": "#%%\n"
    }
   }
  },
  {
   "cell_type": "code",
   "execution_count": 32,
   "outputs": [
    {
     "data": {
      "text/plain": "                                  master_id     cltv segment\n0      cc294636-19f0-11eb-8d74-000d3a38a36f 1663.512       A\n1      f431bd5a-ab7b-11e9-a2fc-000d3a38a36f  762.554       B\n2      69b69676-1a40-11ea-941b-000d3a38a36f  646.382       B\n3      1854e56c-491f-11eb-806e-000d3a38a36f  391.590       D\n4      d6ea1074-f1f5-11e9-9346-000d3a38a36f  321.353       D\n...                                     ...      ...     ...\n19940  727e2b6e-ddd4-11e9-a848-000d3a38a36f  512.633       C\n19941  25cd53d4-61bf-11ea-8dd8-000d3a38a36f  748.707       B\n19942  8aea4c2a-d6fc-11e9-93bc-000d3a38a36f  795.970       B\n19943  e50bb46c-ff30-11e9-a5e8-000d3a38a36f  822.040       B\n19944  740998d2-b1f7-11e9-89fa-000d3a38a36f  412.048       C\n\n[19945 rows x 3 columns]",
      "text/html": "<div>\n<style scoped>\n    .dataframe tbody tr th:only-of-type {\n        vertical-align: middle;\n    }\n\n    .dataframe tbody tr th {\n        vertical-align: top;\n    }\n\n    .dataframe thead th {\n        text-align: right;\n    }\n</style>\n<table border=\"1\" class=\"dataframe\">\n  <thead>\n    <tr style=\"text-align: right;\">\n      <th></th>\n      <th>master_id</th>\n      <th>cltv</th>\n      <th>segment</th>\n    </tr>\n  </thead>\n  <tbody>\n    <tr>\n      <th>0</th>\n      <td>cc294636-19f0-11eb-8d74-000d3a38a36f</td>\n      <td>1663.512</td>\n      <td>A</td>\n    </tr>\n    <tr>\n      <th>1</th>\n      <td>f431bd5a-ab7b-11e9-a2fc-000d3a38a36f</td>\n      <td>762.554</td>\n      <td>B</td>\n    </tr>\n    <tr>\n      <th>2</th>\n      <td>69b69676-1a40-11ea-941b-000d3a38a36f</td>\n      <td>646.382</td>\n      <td>B</td>\n    </tr>\n    <tr>\n      <th>3</th>\n      <td>1854e56c-491f-11eb-806e-000d3a38a36f</td>\n      <td>391.590</td>\n      <td>D</td>\n    </tr>\n    <tr>\n      <th>4</th>\n      <td>d6ea1074-f1f5-11e9-9346-000d3a38a36f</td>\n      <td>321.353</td>\n      <td>D</td>\n    </tr>\n    <tr>\n      <th>...</th>\n      <td>...</td>\n      <td>...</td>\n      <td>...</td>\n    </tr>\n    <tr>\n      <th>19940</th>\n      <td>727e2b6e-ddd4-11e9-a848-000d3a38a36f</td>\n      <td>512.633</td>\n      <td>C</td>\n    </tr>\n    <tr>\n      <th>19941</th>\n      <td>25cd53d4-61bf-11ea-8dd8-000d3a38a36f</td>\n      <td>748.707</td>\n      <td>B</td>\n    </tr>\n    <tr>\n      <th>19942</th>\n      <td>8aea4c2a-d6fc-11e9-93bc-000d3a38a36f</td>\n      <td>795.970</td>\n      <td>B</td>\n    </tr>\n    <tr>\n      <th>19943</th>\n      <td>e50bb46c-ff30-11e9-a5e8-000d3a38a36f</td>\n      <td>822.040</td>\n      <td>B</td>\n    </tr>\n    <tr>\n      <th>19944</th>\n      <td>740998d2-b1f7-11e9-89fa-000d3a38a36f</td>\n      <td>412.048</td>\n      <td>C</td>\n    </tr>\n  </tbody>\n</table>\n<p>19945 rows × 3 columns</p>\n</div>"
     },
     "execution_count": 32,
     "metadata": {},
     "output_type": "execute_result"
    }
   ],
   "source": [
    "cltv_df.loc[:, ['master_id', 'cltv', 'segment']]"
   ],
   "metadata": {
    "collapsed": false,
    "pycharm": {
     "name": "#%%\n"
    }
   }
  },
  {
   "cell_type": "code",
   "execution_count": 33,
   "outputs": [
    {
     "data": {
      "text/plain": "         cltv                     \n        count     mean         sum\nsegment                           \nD        4987  278.899 1390867.622\nC        4986  498.064 2483347.281\nB        4986  736.589 3672632.478\nA        4986 1409.530 7027915.093",
      "text/html": "<div>\n<style scoped>\n    .dataframe tbody tr th:only-of-type {\n        vertical-align: middle;\n    }\n\n    .dataframe tbody tr th {\n        vertical-align: top;\n    }\n\n    .dataframe thead tr th {\n        text-align: left;\n    }\n\n    .dataframe thead tr:last-of-type th {\n        text-align: right;\n    }\n</style>\n<table border=\"1\" class=\"dataframe\">\n  <thead>\n    <tr>\n      <th></th>\n      <th colspan=\"3\" halign=\"left\">cltv</th>\n    </tr>\n    <tr>\n      <th></th>\n      <th>count</th>\n      <th>mean</th>\n      <th>sum</th>\n    </tr>\n    <tr>\n      <th>segment</th>\n      <th></th>\n      <th></th>\n      <th></th>\n    </tr>\n  </thead>\n  <tbody>\n    <tr>\n      <th>D</th>\n      <td>4987</td>\n      <td>278.899</td>\n      <td>1390867.622</td>\n    </tr>\n    <tr>\n      <th>C</th>\n      <td>4986</td>\n      <td>498.064</td>\n      <td>2483347.281</td>\n    </tr>\n    <tr>\n      <th>B</th>\n      <td>4986</td>\n      <td>736.589</td>\n      <td>3672632.478</td>\n    </tr>\n    <tr>\n      <th>A</th>\n      <td>4986</td>\n      <td>1409.530</td>\n      <td>7027915.093</td>\n    </tr>\n  </tbody>\n</table>\n</div>"
     },
     "execution_count": 33,
     "metadata": {},
     "output_type": "execute_result"
    }
   ],
   "source": [
    "# CLTV value is analyzed on a segment basis according to certain parameters\n",
    "cltv_df.groupby(\"segment\").agg({'cltv':[\"count\", \"mean\", \"sum\"]})"
   ],
   "metadata": {
    "collapsed": false,
    "pycharm": {
     "name": "#%%\n"
    }
   }
  },
  {
   "cell_type": "markdown",
   "source": [
    "### Action Case\n",
    "\n",
    "Make short 6-month action suggestions to the management for 2 groups that you will choose from among 4 groups."
   ],
   "metadata": {
    "collapsed": false,
    "pycharm": {
     "name": "#%% md\n"
    }
   }
  },
  {
   "cell_type": "code",
   "execution_count": 34,
   "outputs": [],
   "source": [
    "# TO DO"
   ],
   "metadata": {
    "collapsed": false,
    "pycharm": {
     "name": "#%%\n"
    }
   }
  }
 ],
 "metadata": {
  "kernelspec": {
   "display_name": "Python 3",
   "language": "python",
   "name": "python3"
  },
  "language_info": {
   "codemirror_mode": {
    "name": "ipython",
    "version": 2
   },
   "file_extension": ".py",
   "mimetype": "text/x-python",
   "name": "python",
   "nbconvert_exporter": "python",
   "pygments_lexer": "ipython2",
   "version": "2.7.6"
  }
 },
 "nbformat": 4,
 "nbformat_minor": 0
}